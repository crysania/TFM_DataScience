{
 "cells": [
  {
   "cell_type": "markdown",
   "metadata": {
    "collapsed": true
   },
   "source": [
    "Script en python para descomprimir los ficheros usando la máquina virtual y Python 2"
   ]
  },
  {
   "cell_type": "code",
   "execution_count": 1,
   "metadata": {
    "collapsed": false
   },
   "outputs": [
    {
     "name": "stdout",
     "output_type": "stream",
     "text": [
      "/home/dsc/my_homeworks/tfm/datos_zip_00/script_datos_py\r\n"
     ]
    }
   ],
   "source": [
    "! pwd"
   ]
  },
  {
   "cell_type": "code",
   "execution_count": 2,
   "metadata": {
    "collapsed": false
   },
   "outputs": [
    {
     "name": "stdout",
     "output_type": "stream",
     "text": [
      "total 12\r\n",
      "-rw-rw-r--. 1 dsc dsc 11201 May 28 19:14 extract_data_py.ipynb\r\n"
     ]
    }
   ],
   "source": [
    "!ls -l"
   ]
  },
  {
   "cell_type": "markdown",
   "metadata": {},
   "source": [
    "Los ficheros estan en el directorio /Frontur y /Egatur"
   ]
  },
  {
   "cell_type": "code",
   "execution_count": 3,
   "metadata": {
    "collapsed": true
   },
   "outputs": [],
   "source": [
    "path_to_zips_frontur = '../Frontur'\n",
    "path_to_zips_egatur = '../Egatur'"
   ]
  },
  {
   "cell_type": "code",
   "execution_count": 4,
   "metadata": {
    "collapsed": false
   },
   "outputs": [
    {
     "name": "stdout",
     "output_type": "stream",
     "text": [
      "datos_2_17.zip\tdatos_3_17.zip\r\n"
     ]
    }
   ],
   "source": [
    "# ls the folder\n",
    "\n",
    "! ls {path_to_zips_frontur}\n"
   ]
  },
  {
   "cell_type": "code",
   "execution_count": 5,
   "metadata": {
    "collapsed": false
   },
   "outputs": [
    {
     "name": "stdout",
     "output_type": "stream",
     "text": [
      "datos_1_17.zip\r\n"
     ]
    }
   ],
   "source": [
    "! ls {path_to_zips_egatur}"
   ]
  },
  {
   "cell_type": "markdown",
   "metadata": {
    "collapsed": true
   },
   "source": [
    "Se chequea el contenido de un fichero .zip de frontur y otro .zip de egatur con shell command"
   ]
  },
  {
   "cell_type": "code",
   "execution_count": 6,
   "metadata": {
    "collapsed": false
   },
   "outputs": [
    {
     "data": {
      "text/plain": [
       "'../Frontur/datos_3_17.zip'"
      ]
     },
     "execution_count": 6,
     "metadata": {},
     "output_type": "execute_result"
    }
   ],
   "source": [
    "path_to_one_file_frontur = path_to_zips_frontur + \"/datos_3_17.zip\"\n",
    "path_to_one_file_frontur"
   ]
  },
  {
   "cell_type": "code",
   "execution_count": 7,
   "metadata": {
    "collapsed": false
   },
   "outputs": [
    {
     "name": "stdout",
     "output_type": "stream",
     "text": [
      "Archive:  ../Frontur/datos_3_17.zip\r\n",
      "Zip file size: 317001 bytes, number of entries: 1\r\n",
      "-rw-a--     6.3 fat  2386086 bx defN 17-Apr-25 08:54 datos_frontur0317.txt\r\n",
      "1 file, 2386086 bytes uncompressed, 316825 bytes compressed:  86.7%\r\n"
     ]
    }
   ],
   "source": [
    "! zipinfo {path_to_one_file_frontur}"
   ]
  },
  {
   "cell_type": "code",
   "execution_count": 8,
   "metadata": {
    "collapsed": false
   },
   "outputs": [
    {
     "data": {
      "text/plain": [
       "'../Egatur/datos_1_17.zip'"
      ]
     },
     "execution_count": 8,
     "metadata": {},
     "output_type": "execute_result"
    }
   ],
   "source": [
    "path_to_one_file_egatur = path_to_zips_egatur + \"/datos_1_17.zip\"\n",
    "path_to_one_file_egatur"
   ]
  },
  {
   "cell_type": "code",
   "execution_count": 9,
   "metadata": {
    "collapsed": false
   },
   "outputs": [
    {
     "name": "stdout",
     "output_type": "stream",
     "text": [
      "Archive:  ../Egatur/datos_1_17.zip\r\n",
      "Zip file size: 141585 bytes, number of entries: 2\r\n",
      "-rw-a--     6.3 fat   460419 bx defN 17-Mar-01 10:27 elevado_eg_mod_web_tur_0117.txt\r\n",
      "-rw-a--     6.3 fat   195239 bx defN 17-Mar-01 10:27 etapas_eg_mod_web_0117.txt\r\n",
      "2 files, 655658 bytes uncompressed, 141225 bytes compressed:  78.5%\r\n"
     ]
    }
   ],
   "source": [
    "! zipinfo {path_to_one_file_egatur}"
   ]
  },
  {
   "cell_type": "code",
   "execution_count": 10,
   "metadata": {
    "collapsed": false
   },
   "outputs": [
    {
     "name": "stdout",
     "output_type": "stream",
     "text": [
      "A0;A0_1;A0_7;A1;Residencia;CCAA;A14;A15;A16;A13_1;Factor\r",
      "\r\n",
      "1;20170303031779;2;2;13;09;1;1;6;4;93.28627804\r",
      "\r\n",
      "1;20170303003021;2;2;13;01;8;1;6;4;55.642667033\r",
      "\r\n",
      "\r\n",
      "gzip: stdout: Broken pipe\r\n"
     ]
    }
   ],
   "source": [
    "! zcat {path_to_one_file_frontur} | head -n 3\n",
    "        \n",
    "        "
   ]
  },
  {
   "cell_type": "code",
   "execution_count": 11,
   "metadata": {
    "collapsed": false
   },
   "outputs": [
    {
     "name": "stdout",
     "output_type": "stream",
     "text": [
      "mm_aaaa;A0;A0_1;A0_7;A1;pais;ccaa;A13;aloja;motivo;A16;gastototal;factoregatur\r",
      "\r\n",
      "012017;2;0115EVA0000106;2;2;14;13;4;1;1;6;1464.6087706;188.80330377\r",
      "\r\n",
      "012017;2;0115EVA0000142;2;2;14;13;18;3;3;6;1690.4543425;96.945894767\r",
      "\r\n",
      "\r\n",
      "gzip: stdout: Broken pipe\r\n"
     ]
    }
   ],
   "source": [
    "! zcat {path_to_one_file_egatur} | head -n 3"
   ]
  },
  {
   "cell_type": "markdown",
   "metadata": {},
   "source": [
    "Usando la shell se unzip de los ficheros de Frontur y Egatur"
   ]
  },
  {
   "cell_type": "code",
   "execution_count": 12,
   "metadata": {
    "collapsed": true
   },
   "outputs": [],
   "source": [
    "path_to_unzips_frontur ='../../datos_01/Frontur/'"
   ]
  },
  {
   "cell_type": "code",
   "execution_count": 15,
   "metadata": {
    "collapsed": false
   },
   "outputs": [
    {
     "name": "stdout",
     "output_type": "stream",
     "text": [
      "Archive:  ../Frontur/datos_3_17.zip\n",
      "replace ../../datos_01/Frontur/datos_frontur0317.txt? [y]es, [n]o, [A]ll, [N]one, [r]ename: ^C\n"
     ]
    }
   ],
   "source": [
    "! unzip {path_to_one_file_frontur} -d {path_to_unzips_frontur}\n"
   ]
  },
  {
   "cell_type": "code",
   "execution_count": 16,
   "metadata": {
    "collapsed": false
   },
   "outputs": [
    {
     "name": "stdout",
     "output_type": "stream",
     "text": [
      "total 2332\r\n",
      "-rw-rw-r--. 1 dsc dsc 2386086 Apr 25 08:54 datos_frontur0317.txt\r\n"
     ]
    }
   ],
   "source": [
    "! ls -l {path_to_unzips_frontur}"
   ]
  },
  {
   "cell_type": "code",
   "execution_count": 17,
   "metadata": {
    "collapsed": true
   },
   "outputs": [],
   "source": [
    "path_to_unzips_egatur ='../../datos_01/Egatur/'"
   ]
  },
  {
   "cell_type": "code",
   "execution_count": 18,
   "metadata": {
    "collapsed": false
   },
   "outputs": [
    {
     "name": "stdout",
     "output_type": "stream",
     "text": [
      "Archive:  ../Egatur/datos_1_17.zip\r\n",
      "  inflating: ../../datos_01/Egatur/elevado_eg_mod_web_tur_0117.txt  \r\n",
      "  inflating: ../../datos_01/Egatur/etapas_eg_mod_web_0117.txt  \r\n"
     ]
    }
   ],
   "source": [
    "! unzip {path_to_one_file_egatur} -d {path_to_unzips_egatur}"
   ]
  },
  {
   "cell_type": "code",
   "execution_count": 19,
   "metadata": {
    "collapsed": false
   },
   "outputs": [
    {
     "name": "stdout",
     "output_type": "stream",
     "text": [
      "total 644\r\n",
      "-rw-rw-r--. 1 dsc dsc 460419 Mar  1 10:27 elevado_eg_mod_web_tur_0117.txt\r\n",
      "-rw-rw-r--. 1 dsc dsc 195239 Mar  1 10:27 etapas_eg_mod_web_0117.txt\r\n"
     ]
    }
   ],
   "source": [
    "! ls -l {path_to_unzips_egatur}\n"
   ]
  },
  {
   "cell_type": "code",
   "execution_count": null,
   "metadata": {
    "collapsed": true
   },
   "outputs": [],
   "source": []
  },
  {
   "cell_type": "code",
   "execution_count": null,
   "metadata": {
    "collapsed": false
   },
   "outputs": [],
   "source": []
  },
  {
   "cell_type": "markdown",
   "metadata": {},
   "source": [
    "Despues de hacer todos los pasos para el primer fichero .zip ahora se realiza el unzip de todos los ficheros"
   ]
  },
  {
   "cell_type": "code",
   "execution_count": 20,
   "metadata": {
    "collapsed": false
   },
   "outputs": [],
   "source": [
    "path_to_all_file_frontur = path_to_zips_frontur +'/\"*.zip\"'\n"
   ]
  },
  {
   "cell_type": "code",
   "execution_count": 21,
   "metadata": {
    "collapsed": false
   },
   "outputs": [
    {
     "data": {
      "text/plain": [
       "'../Frontur/\"*.zip\"'"
      ]
     },
     "execution_count": 21,
     "metadata": {},
     "output_type": "execute_result"
    }
   ],
   "source": [
    "path_to_all_file_frontur"
   ]
  },
  {
   "cell_type": "code",
   "execution_count": 22,
   "metadata": {
    "collapsed": false
   },
   "outputs": [
    {
     "name": "stdout",
     "output_type": "stream",
     "text": [
      "Archive:  ../Frontur/datos_3_17.zip\r\n",
      "  inflating: ../../datos_01/Frontur/datos_frontur0317.txt  \r\n",
      "\r\n",
      "Archive:  ../Frontur/datos_2_17.zip\r\n",
      "  inflating: ../../datos_01/Frontur/datos_frontur0217.txt  \r\n",
      "\r\n",
      "2 archives were successfully processed.\r\n"
     ]
    }
   ],
   "source": [
    "! unzip   {path_to_all_file_frontur} -d  {path_to_unzips_frontur}"
   ]
  },
  {
   "cell_type": "code",
   "execution_count": 23,
   "metadata": {
    "collapsed": true
   },
   "outputs": [],
   "source": [
    "path_to_all_file_egatur = path_to_zips_egatur +'/\"*.zip\"'"
   ]
  },
  {
   "cell_type": "code",
   "execution_count": 24,
   "metadata": {
    "collapsed": false
   },
   "outputs": [
    {
     "data": {
      "text/plain": [
       "'../Egatur/\"*.zip\"'"
      ]
     },
     "execution_count": 24,
     "metadata": {},
     "output_type": "execute_result"
    }
   ],
   "source": [
    "path_to_all_file_egatur"
   ]
  },
  {
   "cell_type": "code",
   "execution_count": 25,
   "metadata": {
    "collapsed": false
   },
   "outputs": [
    {
     "name": "stdout",
     "output_type": "stream",
     "text": [
      "Archive:  ../Egatur/datos_1_17.zip\n",
      "replace ../../datos_01/Egatur/elevado_eg_mod_web_tur_0117.txt? [y]es, [n]o, [A]ll, [N]one, [r]ename: ^C\n"
     ]
    }
   ],
   "source": [
    "! unzip   {path_to_all_file_egatur} -d  {path_to_unzips_egatur}"
   ]
  },
  {
   "cell_type": "code",
   "execution_count": null,
   "metadata": {
    "collapsed": true
   },
   "outputs": [],
   "source": []
  }
 ],
 "metadata": {
  "kernelspec": {
   "display_name": "Python 2",
   "language": "python",
   "name": "python2"
  },
  "language_info": {
   "codemirror_mode": {
    "name": "ipython",
    "version": 2
   },
   "file_extension": ".py",
   "mimetype": "text/x-python",
   "name": "python",
   "nbconvert_exporter": "python",
   "pygments_lexer": "ipython2",
   "version": "2.7.11"
  }
 },
 "nbformat": 4,
 "nbformat_minor": 2
}
